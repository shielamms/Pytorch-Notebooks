{
 "cells": [
  {
   "cell_type": "code",
   "execution_count": 1,
   "metadata": {},
   "outputs": [],
   "source": [
    "import torch"
   ]
  },
  {
   "cell_type": "code",
   "execution_count": 2,
   "metadata": {},
   "outputs": [],
   "source": [
    "def activation(x):\n",
    "    return 1 / (1 + torch.exp(-x))"
   ]
  },
  {
   "cell_type": "markdown",
   "metadata": {},
   "source": [
    "### 1 Layer"
   ]
  },
  {
   "cell_type": "code",
   "execution_count": 3,
   "metadata": {},
   "outputs": [
    {
     "name": "stdout",
     "output_type": "stream",
     "text": [
      "tensor([[-0.1468,  0.7861,  0.9468, -1.1143,  1.6908]])\n",
      "tensor([[-0.8948, -0.3556,  1.2324,  0.1382, -1.6822]])\n",
      "tensor([[0.3177]])\n"
     ]
    }
   ],
   "source": [
    "torch.manual_seed(7)\n",
    "\n",
    "features = torch.randn((1, 5))\n",
    "weights = torch.randn_like(features)\n",
    "bias= torch.randn(1, 1)\n",
    "\n",
    "print(features, weights, bias, sep='\\n')"
   ]
  },
  {
   "cell_type": "code",
   "execution_count": 4,
   "metadata": {},
   "outputs": [
    {
     "name": "stdout",
     "output_type": "stream",
     "text": [
      "tensor([[-0.8948],\n",
      "        [-0.3556],\n",
      "        [ 1.2324],\n",
      "        [ 0.1382],\n",
      "        [-1.6822]])\n"
     ]
    }
   ],
   "source": [
    "weights = weights.view(5, 1)\n",
    "\n",
    "print(weights)"
   ]
  },
  {
   "cell_type": "code",
   "execution_count": 5,
   "metadata": {},
   "outputs": [
    {
     "name": "stdout",
     "output_type": "stream",
     "text": [
      "tensor([[-1.9796]])\n"
     ]
    }
   ],
   "source": [
    "y = activation(torch.sum(torch.mm(features, weights)) + bias)\n",
    "\n",
    "print(torch.mm(features, weights))"
   ]
  },
  {
   "cell_type": "code",
   "execution_count": 6,
   "metadata": {},
   "outputs": [
    {
     "name": "stdout",
     "output_type": "stream",
     "text": [
      "tensor([[0.1595]])\n"
     ]
    }
   ],
   "source": [
    "print(y)"
   ]
  },
  {
   "cell_type": "markdown",
   "metadata": {},
   "source": [
    "### 2 Layers"
   ]
  },
  {
   "cell_type": "code",
   "execution_count": 7,
   "metadata": {},
   "outputs": [
    {
     "name": "stdout",
     "output_type": "stream",
     "text": [
      "tensor([[-0.1468,  0.7861,  0.9468]])\n",
      "tensor([[-1.1143,  1.6908],\n",
      "        [-0.8948, -0.3556],\n",
      "        [ 1.2324,  0.1382]])\n",
      "tensor([[-1.6822],\n",
      "        [ 0.3177]])\n",
      "tensor([[0.1328, 0.1373]])\n",
      "tensor([[0.2405]])\n"
     ]
    }
   ],
   "source": [
    "torch.manual_seed(7)\n",
    "\n",
    "features = torch.randn((1, 3))\n",
    "n_input = features.shape[1]\n",
    "n_hidden = 2\n",
    "n_output = 1\n",
    "\n",
    "W1 = torch.randn(n_input, n_hidden)\n",
    "W2 = torch.randn(n_hidden, n_output)\n",
    "\n",
    "B1 = torch.randn((1, n_hidden))\n",
    "B2 = torch.randn((1, n_output))\n",
    "\n",
    "print(features, W1, W2, B1, B2, sep='\\n')"
   ]
  },
  {
   "cell_type": "code",
   "execution_count": 8,
   "metadata": {},
   "outputs": [
    {
     "name": "stdout",
     "output_type": "stream",
     "text": [
      "tensor([[0.6813, 0.4355]])\n"
     ]
    }
   ],
   "source": [
    "h1 = activation(torch.mm(features, W1) + B1)\n",
    "\n",
    "print(h1)"
   ]
  },
  {
   "cell_type": "code",
   "execution_count": 9,
   "metadata": {},
   "outputs": [
    {
     "name": "stdout",
     "output_type": "stream",
     "text": [
      "tensor([[0.3171]])\n"
     ]
    }
   ],
   "source": [
    "output = activation(torch.mm(h1, W2) + B2)\n",
    "\n",
    "print(output)"
   ]
  },
  {
   "cell_type": "markdown",
   "metadata": {},
   "source": [
    "### Numpy to Torch"
   ]
  },
  {
   "cell_type": "code",
   "execution_count": 10,
   "metadata": {},
   "outputs": [],
   "source": [
    "import numpy as np"
   ]
  },
  {
   "cell_type": "code",
   "execution_count": 11,
   "metadata": {},
   "outputs": [
    {
     "name": "stdout",
     "output_type": "stream",
     "text": [
      "[[0.53165361 0.98164009 0.29994021]\n",
      " [0.93768054 0.24436332 0.32138775]\n",
      " [0.18374366 0.85141198 0.95748885]\n",
      " [0.98351651 0.54025846 0.61718725]]\n"
     ]
    }
   ],
   "source": [
    "a = np.random.rand(4,3)\n",
    "print(a)"
   ]
  },
  {
   "cell_type": "code",
   "execution_count": 12,
   "metadata": {},
   "outputs": [
    {
     "name": "stdout",
     "output_type": "stream",
     "text": [
      "tensor([[0.5317, 0.9816, 0.2999],\n",
      "        [0.9377, 0.2444, 0.3214],\n",
      "        [0.1837, 0.8514, 0.9575],\n",
      "        [0.9835, 0.5403, 0.6172]], dtype=torch.float64)\n"
     ]
    }
   ],
   "source": [
    "torch_a = torch.from_numpy(a)\n",
    "print(torch_a)"
   ]
  },
  {
   "cell_type": "code",
   "execution_count": 13,
   "metadata": {},
   "outputs": [
    {
     "data": {
      "text/plain": [
       "array([[0.53165361, 0.98164009, 0.29994021],\n",
       "       [0.93768054, 0.24436332, 0.32138775],\n",
       "       [0.18374366, 0.85141198, 0.95748885],\n",
       "       [0.98351651, 0.54025846, 0.61718725]])"
      ]
     },
     "execution_count": 13,
     "metadata": {},
     "output_type": "execute_result"
    }
   ],
   "source": [
    "torch_a.numpy()"
   ]
  },
  {
   "cell_type": "code",
   "execution_count": 14,
   "metadata": {},
   "outputs": [
    {
     "data": {
      "text/plain": [
       "tensor([[1.0633, 1.9633, 0.5999],\n",
       "        [1.8754, 0.4887, 0.6428],\n",
       "        [0.3675, 1.7028, 1.9150],\n",
       "        [1.9670, 1.0805, 1.2344]], dtype=torch.float64)"
      ]
     },
     "execution_count": 14,
     "metadata": {},
     "output_type": "execute_result"
    }
   ],
   "source": [
    "torch_a.mul_(2)"
   ]
  },
  {
   "cell_type": "code",
   "execution_count": 15,
   "metadata": {},
   "outputs": [
    {
     "data": {
      "text/plain": [
       "array([[1.06330721, 1.96328018, 0.59988041],\n",
       "       [1.87536108, 0.48872663, 0.64277551],\n",
       "       [0.36748731, 1.70282395, 1.9149777 ],\n",
       "       [1.96703302, 1.08051692, 1.23437449]])"
      ]
     },
     "execution_count": 15,
     "metadata": {},
     "output_type": "execute_result"
    }
   ],
   "source": [
    "a"
   ]
  },
  {
   "cell_type": "markdown",
   "metadata": {},
   "source": [
    "### Pytorch without NN Module"
   ]
  },
  {
   "cell_type": "code",
   "execution_count": 16,
   "metadata": {},
   "outputs": [],
   "source": [
    "%matplotlib inline\n",
    "%config InlineBackend.figure_format = 'retina'"
   ]
  },
  {
   "cell_type": "code",
   "execution_count": 17,
   "metadata": {},
   "outputs": [],
   "source": [
    "import matplotlib.pyplot as plt"
   ]
  },
  {
   "cell_type": "code",
   "execution_count": 18,
   "metadata": {},
   "outputs": [],
   "source": [
    "# Load the MNIS dataset\n",
    "from torchvision import datasets, transforms\n",
    "\n",
    "transform = transforms.Compose([transforms.ToTensor(),\n",
    "                               transforms.Normalize([0.5], [0.5]),\n",
    "                               ])\n",
    "\n",
    "trainset = datasets.MNIST('MNIST_data/', download=True, train=True, transform=transform)\n",
    "trainloader = torch.utils.data.DataLoader(trainset, batch_size=64, shuffle=True)"
   ]
  },
  {
   "cell_type": "code",
   "execution_count": 19,
   "metadata": {},
   "outputs": [
    {
     "name": "stdout",
     "output_type": "stream",
     "text": [
      "<class 'torch.Tensor'>\n",
      "torch.Size([64, 1, 28, 28])\n",
      "torch.Size([64])\n"
     ]
    }
   ],
   "source": [
    "dataiter = iter(trainloader)\n",
    "images, labels = dataiter.next()\n",
    "\n",
    "print(type(images))\n",
    "print(images.shape)\n",
    "print(labels.shape)"
   ]
  },
  {
   "cell_type": "code",
   "execution_count": 20,
   "metadata": {},
   "outputs": [
    {
     "data": {
      "text/plain": [
       "<matplotlib.image.AxesImage at 0x1b31093e508>"
      ]
     },
     "execution_count": 20,
     "metadata": {},
     "output_type": "execute_result"
    },
    {
     "data": {
      "image/png": "[encoded data removed]",
      "text/plain": [
       "<Figure size 432x288 with 1 Axes>"
      ]
     },
     "metadata": {
      "image/png": {
       "height": 250,
       "width": 253
      },
      "needs_background": "light"
     },
     "output_type": "display_data"
    }
   ],
   "source": [
    "plt.imshow(images[1].numpy().squeeze(), cmap='Greys_r')"
   ]
  },
  {
   "cell_type": "code",
   "execution_count": 21,
   "metadata": {},
   "outputs": [],
   "source": [
    "inputs = images.view(images.shape[0], -1)\n",
    "\n",
    "w1 = torch.randn(784, 256)\n",
    "b1 = torch.randn(256)\n",
    "\n",
    "w2 = torch.randn(256, 10)\n",
    "b2 = torch.randn(10)"
   ]
  },
  {
   "cell_type": "code",
   "execution_count": 22,
   "metadata": {},
   "outputs": [],
   "source": [
    "h1 = activation(torch.mm(inputs, w1) + b1)\n",
    "\n",
    "output = torch.mm(h1, w2) + b2"
   ]
  },
  {
   "cell_type": "code",
   "execution_count": 23,
   "metadata": {},
   "outputs": [
    {
     "name": "stdout",
     "output_type": "stream",
     "text": [
      "torch.Size([64, 10])\n",
      "tensor([[ 4.1850e+00,  1.7385e+01, -2.0025e+01, -3.1723e+00, -3.5890e+00,\n",
      "         -5.5427e-01,  6.3814e+00,  1.2403e+01,  4.3539e-01,  5.4370e+00],\n",
      "        [-4.7575e+00,  1.5829e+01, -2.2019e+01,  5.1966e+00, -5.0432e-01,\n",
      "          8.2517e+00,  1.0362e+01,  4.4520e+00,  1.6230e+01,  6.6735e+00],\n",
      "        [-5.8159e+00,  2.0752e+01, -1.4510e+01, -4.0851e+00,  1.2044e+01,\n",
      "         -5.2770e+00,  1.5019e+01,  6.0332e+00,  2.6487e+00,  4.7284e+00],\n",
      "        [-6.5565e-02,  9.0499e+00, -6.1621e+00, -8.0228e+00,  8.4912e-01,\n",
      "         -1.2533e+01,  5.8463e+00,  1.1087e+01,  8.1131e+00, -1.1102e+00],\n",
      "        [-1.0341e+01,  7.8912e+00, -1.3880e+01,  3.2861e+00,  5.5803e+00,\n",
      "          5.1073e+00,  1.1375e+01,  7.1374e+00,  1.2983e+01, -4.1446e+00],\n",
      "        [-8.7998e+00,  1.2696e+01, -9.1019e+00, -3.2297e+00,  1.3302e+01,\n",
      "         -5.5572e+00,  1.9638e+01,  1.2058e+01,  2.7587e+00, -9.6813e-01],\n",
      "        [-4.3998e+00,  9.7839e+00, -9.3046e+00, -5.2474e-01,  1.3046e+01,\n",
      "          9.3212e+00,  1.4141e+01,  5.5907e+00,  1.0477e+01,  6.9960e+00],\n",
      "        [-2.5904e+00,  4.9976e+00, -1.1594e+01, -6.7529e+00, -1.0658e+01,\n",
      "          7.7110e+00,  1.1820e+01,  2.6636e+00,  1.0189e+01, -1.2421e+00],\n",
      "        [ 5.2115e-01, -1.3644e+00, -1.6513e+01, -4.6554e+00,  3.7285e+00,\n",
      "         -3.1080e+00,  7.7881e+00,  1.0042e+01, -6.8008e-01,  3.9067e+00],\n",
      "        [-7.6980e+00,  1.7183e+01, -7.7356e+00, -3.1033e+00,  9.3301e+00,\n",
      "          1.7091e+00,  1.7921e+01,  7.0748e+00,  1.3149e+01, -2.9447e+00],\n",
      "        [-6.3854e+00,  1.1959e+01, -1.3212e+01, -8.3055e+00, -5.5979e+00,\n",
      "         -1.0100e+00,  1.1872e+01,  1.4507e+01,  8.8909e+00, -9.9130e-01],\n",
      "        [-7.2685e+00,  9.3965e+00, -1.6992e+01, -8.7132e+00,  1.6523e+00,\n",
      "         -4.5413e+00,  1.1993e+01,  1.0928e+01,  1.4098e-01, -2.0974e+00],\n",
      "        [-6.0836e+00,  1.1314e+00, -7.8998e+00, -8.2629e+00, -2.3832e+00,\n",
      "         -5.8015e+00,  2.0638e+01,  1.1984e+01,  6.4640e+00, -1.0880e-01],\n",
      "        [ 8.8649e+00,  1.1780e+01, -5.3047e+00, -1.5820e+00, -7.1966e-01,\n",
      "         -1.0783e+01,  6.4219e+00,  1.2323e+01,  1.8625e+00,  1.1160e+01],\n",
      "        [-5.0527e+00,  9.7074e-01, -1.2549e+01,  7.4699e+00,  2.4881e+00,\n",
      "          8.5988e+00,  1.3410e+01,  2.8074e+00,  1.3882e+01,  2.5406e+00],\n",
      "        [ 3.1370e+00,  9.8613e+00, -1.5008e+01, -8.4445e+00,  3.1676e+00,\n",
      "          3.9761e-01,  1.7956e+01,  1.0018e+01,  9.8141e+00,  8.2353e+00],\n",
      "        [-4.1325e-01,  9.4053e+00, -7.8674e+00, -9.6269e+00,  4.6310e+00,\n",
      "         -3.9226e+00,  1.9257e+01,  1.5801e+01,  1.2540e+01, -1.9370e+00],\n",
      "        [-8.0577e+00,  8.7921e-01, -2.2821e+01,  1.0957e+01, -5.1954e-03,\n",
      "          2.0093e+00,  7.3236e+00,  1.2771e+00,  7.0792e+00,  9.8861e+00],\n",
      "        [-1.7177e+00,  4.8022e+00, -1.4918e+01, -9.0315e+00,  1.7778e+00,\n",
      "         -8.8775e+00,  1.5127e+01,  1.3011e+01,  8.0305e+00,  1.3752e+00],\n",
      "        [-1.1042e+01,  1.8486e+01, -7.8181e+00, -2.0258e+00,  6.6382e+00,\n",
      "         -1.1085e+01,  8.0895e+00,  7.1986e+00,  4.9272e+00,  4.1767e+00],\n",
      "        [-1.1431e+01,  9.0846e+00, -9.6848e+00, -2.4778e+00, -2.1890e+00,\n",
      "         -6.5941e-01,  1.5210e+01,  1.4524e+01,  1.2787e+01,  2.6752e-01],\n",
      "        [-1.0980e+01,  1.8590e+01, -3.9387e+00, -3.6066e+00,  7.4491e+00,\n",
      "         -1.3622e+01,  9.0497e+00,  6.7897e+00,  8.8084e+00,  4.0295e+00],\n",
      "        [-5.5636e+00,  9.0201e+00, -1.1805e+01,  5.3366e+00,  1.1283e+01,\n",
      "         -6.3773e+00,  6.8987e+00,  8.7577e+00,  1.4956e+01, -3.2343e+00],\n",
      "        [ 1.3601e+00,  7.0005e+00, -1.6155e+01, -2.1695e+00,  4.5036e+00,\n",
      "         -3.4691e+00,  6.1916e+00,  6.2630e+00,  2.5849e+00,  6.4051e+00],\n",
      "        [-2.5974e+00,  5.3203e+00, -1.5966e+01, -1.1527e+01,  6.2414e+00,\n",
      "         -2.8921e+00,  2.3688e+01,  9.8732e+00,  4.2984e+00,  1.3113e+00],\n",
      "        [-8.7829e+00,  6.0873e+00, -1.3347e+01, -8.4448e+00,  1.4486e+01,\n",
      "         -5.3137e+00,  1.8460e+01,  1.2370e+01,  3.7597e+00,  5.0723e-01],\n",
      "        [-2.1901e+00,  1.3368e+01, -1.0093e+01, -1.2596e+01,  5.8887e-01,\n",
      "         -1.2001e+01,  1.1280e+01,  1.8297e+01,  1.1891e+01, -2.4339e+00],\n",
      "        [-4.1558e+00,  5.3178e+00, -1.7129e+01, -1.4081e+01,  1.5484e-01,\n",
      "         -4.2667e+00,  1.8459e+01,  9.0142e+00,  1.0509e+01, -2.2456e+00],\n",
      "        [-9.2438e+00,  1.0064e+01, -1.1944e+01, -4.8412e+00, -1.1263e+00,\n",
      "         -6.1675e+00,  1.4904e+01,  1.2564e+01,  9.0218e+00,  3.1502e+00],\n",
      "        [-2.2386e-01,  6.7728e+00, -1.3367e+01, -5.5902e+00, -2.1062e+00,\n",
      "         -4.0307e+00,  1.5782e+01,  1.0553e+01,  7.0632e+00,  6.9369e+00],\n",
      "        [-2.2139e-01,  1.0696e+01, -5.9660e+00, -8.0274e+00, -5.6501e+00,\n",
      "         -1.4529e+01,  1.1841e+01,  1.6149e+01,  1.1986e+01, -2.2052e+00],\n",
      "        [-4.1362e+00,  1.1397e+01, -1.5301e+01, -2.3836e+00,  1.1667e+00,\n",
      "          2.5122e+00,  1.4458e+01,  1.3733e+01,  5.5537e+00,  8.0834e+00],\n",
      "        [-5.4519e-01,  9.6976e+00,  2.9708e+00, -6.7921e+00, -6.4790e+00,\n",
      "          1.0058e+00,  1.3513e+01,  5.8830e+00,  6.0672e+00, -1.1714e+01],\n",
      "        [-1.1170e+01,  1.5640e+01, -2.2294e+01, -1.2260e+00,  1.5441e+01,\n",
      "          7.9898e-01,  1.2776e+01,  6.8489e+00,  1.0487e+00, -3.5832e+00],\n",
      "        [-4.5033e+00,  9.3958e+00, -1.3184e+01, -6.2791e+00,  5.8166e+00,\n",
      "         -4.4917e-01,  1.0410e+01,  6.7540e+00,  1.8731e+00,  6.7213e+00],\n",
      "        [ 1.9238e+00,  8.3823e+00, -1.3004e+01,  1.2227e+00, -3.0391e+00,\n",
      "         -1.3344e+01,  2.6431e+00,  7.4998e+00,  1.4807e+01,  8.6500e+00],\n",
      "        [-3.0271e+00,  9.6333e+00, -8.3151e+00,  9.1011e-01, -5.4341e+00,\n",
      "          2.8711e+00,  1.0209e+01,  1.1705e+01,  1.0081e+01,  2.2721e+00],\n",
      "        [-3.2283e+00,  1.0432e+01, -5.7130e+00, -1.1007e+01,  3.6888e+00,\n",
      "         -1.4765e+01,  1.7926e+01,  1.1113e+01,  7.5183e+00,  2.5639e+00],\n",
      "        [-2.2616e+00,  7.2675e+00, -2.1534e+00, -3.3060e+00, -4.6795e-01,\n",
      "         -8.9165e+00,  1.7148e+01,  1.3761e+01,  2.9513e+00, -1.5279e+00],\n",
      "        [ 3.7860e-01,  1.3357e+01, -1.7841e+01,  2.9327e+00,  2.0945e+00,\n",
      "          6.2253e+00,  1.0285e+01,  6.7317e+00,  1.6635e+01,  1.4078e+00],\n",
      "        [-4.3434e+00,  1.3977e+01, -1.2403e+01, -9.1765e+00,  5.2227e-01,\n",
      "         -1.0590e+01,  9.5861e+00,  1.4870e+01,  1.0442e+01, -3.1680e+00],\n",
      "        [-8.7876e+00,  8.9068e+00, -1.9795e+00, -2.5498e+00, -6.8097e+00,\n",
      "          2.9650e+00,  1.2275e+01,  8.1385e+00,  1.3914e+01,  8.1529e-01],\n",
      "        [-8.9099e+00,  9.2171e+00, -1.9731e+01, -7.5366e+00,  1.2967e+01,\n",
      "          8.8302e-01,  1.8400e+01,  1.9516e+01,  3.3681e+00,  1.4466e+00],\n",
      "        [-1.0256e+01,  1.1738e+01, -6.6419e-01,  1.3500e+00,  4.7162e+00,\n",
      "          2.0411e+00,  1.5941e+01,  6.2851e+00,  7.1429e+00,  1.7877e+00],\n",
      "        [-1.0246e+01,  1.4187e+01, -1.0951e+01, -1.8873e+00,  3.1641e+00,\n",
      "         -8.7496e+00,  1.0036e+01,  7.5093e+00,  7.8438e+00,  1.1774e+00],\n",
      "        [-4.2189e+00,  8.4167e+00, -1.3223e+01, -1.1786e+00, -4.4208e+00,\n",
      "         -6.7731e-01,  7.6857e+00,  1.1434e+01, -4.7569e-01, -2.8455e+00],\n",
      "        [-1.3728e+01,  1.2870e+01, -1.4951e+00,  3.2610e-01,  3.0599e+00,\n",
      "         -2.9031e+00,  8.3916e+00,  1.0850e+01,  8.9481e+00,  1.1472e+00],\n",
      "        [-1.6851e+01,  8.6362e+00, -1.3482e+01, -9.1172e+00, -4.6271e+00,\n",
      "          1.1791e+00,  1.7244e+01,  1.8464e+01,  6.2052e+00, -2.3030e+00],\n",
      "        [-8.8184e+00,  1.0868e+01, -1.9423e+00,  3.0957e+00,  5.4258e-01,\n",
      "         -1.1564e+01,  1.0943e+01,  1.0025e+01,  5.5268e+00, -2.3497e-01],\n",
      "        [-8.5603e+00,  1.0645e+01, -1.2709e+01, -3.1323e+00,  9.6809e+00,\n",
      "          1.2916e+00,  1.8620e+01,  1.5268e+01,  5.2457e+00,  4.4071e+00],\n",
      "        [-4.0467e-01,  8.5597e+00, -3.1527e+00, -6.9082e+00, -1.8916e+00,\n",
      "         -1.3860e+01,  1.1952e+01,  1.1545e+01,  9.3310e+00, -6.3034e+00],\n",
      "        [-1.6065e+00,  7.7063e+00, -1.1179e+01, -5.4710e+00, -5.7737e+00,\n",
      "          1.3536e+00,  1.2524e+01,  6.9959e+00,  9.0170e-01,  6.0696e+00],\n",
      "        [-1.2590e+01,  2.0707e+01, -1.5957e+01,  2.4601e+00,  4.9483e+00,\n",
      "         -1.0541e+00,  1.1242e+01,  1.4026e+01,  1.8189e+01,  4.4057e-01],\n",
      "        [ 1.4923e+00,  5.5211e+00, -1.1972e+01, -5.2868e+00,  9.6789e+00,\n",
      "          1.2675e+01,  2.7543e+00, -5.0296e-01,  1.2957e+01,  6.8223e+00],\n",
      "        [ 3.4888e+00,  1.4902e+01, -1.1281e+01, -3.3543e+00, -8.3681e-01,\n",
      "         -1.2305e+00,  6.5554e+00,  9.9245e+00,  1.0555e+00,  3.8452e+00],\n",
      "        [-1.6149e+00,  1.1821e+01, -3.5202e+00, -7.0847e+00, -2.4528e-01,\n",
      "         -1.0203e+01,  7.5965e+00,  1.1858e+01,  8.4004e+00, -3.8651e+00],\n",
      "        [-7.8837e+00,  1.2660e+01, -2.3660e+01, -5.1586e+00,  2.3644e+00,\n",
      "          1.0045e+01,  1.0572e+01,  3.2022e+00,  6.6557e+00,  1.2990e+00],\n",
      "        [-5.4311e+00,  6.4793e+00, -2.6151e+00, -9.6552e+00, -2.7518e+00,\n",
      "         -6.8275e+00,  9.5950e+00,  1.7229e+01,  7.0692e+00,  4.8758e+00],\n",
      "        [-1.9916e+00,  9.1562e+00, -4.6642e+00, -2.0166e+00,  3.0617e+00,\n",
      "         -1.0867e+01,  2.6212e+01,  1.4120e+01,  5.6053e+00,  5.4672e+00],\n",
      "        [ 1.4745e+00,  6.2417e-01, -8.7238e+00, -5.0791e+00, -1.3555e+00,\n",
      "         -5.1967e+00,  4.4643e+00,  1.2591e+01,  6.0209e+00,  2.3650e+00],\n",
      "        [-1.6216e+00,  7.6380e+00, -1.5021e+01, -1.3525e+00,  8.2283e+00,\n",
      "          1.1689e+00,  1.7312e+01,  1.2478e+01,  5.3560e+00,  4.2523e+00],\n",
      "        [-4.8547e+00,  4.8990e+00, -1.3926e+01, -7.7183e+00, -2.2911e+00,\n",
      "         -3.5915e+00,  1.4871e+01,  1.2643e+01,  8.8995e-01, -5.9035e-01],\n",
      "        [-2.8574e+00,  3.6077e+00, -4.2756e+00, -2.7234e+00, -2.7683e+00,\n",
      "         -1.1229e+01,  1.3954e+01,  1.6369e+01,  6.4825e+00, -5.8984e+00],\n",
      "        [-5.1581e+00,  1.0237e+01, -1.1158e+01, -3.7968e+00,  4.6862e+00,\n"
     ]
    },
    {
     "name": "stdout",
     "output_type": "stream",
     "text": [
      "         -2.9867e+00,  1.4047e+01,  1.0164e+01,  1.3768e+01,  3.0494e+00]])\n"
     ]
    }
   ],
   "source": [
    "print(output.shape)\n",
    "print(output)"
   ]
  },
  {
   "cell_type": "code",
   "execution_count": 24,
   "metadata": {},
   "outputs": [],
   "source": [
    "def softmax(x):\n",
    "    return torch.exp(x) / torch.sum(torch.exp(x), dim=1).view(-1, 1)"
   ]
  },
  {
   "cell_type": "code",
   "execution_count": 25,
   "metadata": {},
   "outputs": [
    {
     "name": "stdout",
     "output_type": "stream",
     "text": [
      "torch.Size([64, 10])\n"
     ]
    }
   ],
   "source": [
    "probabilities = softmax(output)\n",
    "print(probabilities.shape)"
   ]
  },
  {
   "cell_type": "code",
   "execution_count": 26,
   "metadata": {},
   "outputs": [
    {
     "name": "stdout",
     "output_type": "stream",
     "text": [
      "tensor([1.0000, 1.0000, 1.0000, 1.0000, 1.0000, 1.0000, 1.0000, 1.0000, 1.0000,\n",
      "        1.0000, 1.0000, 1.0000, 1.0000, 1.0000, 1.0000, 1.0000, 1.0000, 1.0000,\n",
      "        1.0000, 1.0000, 1.0000, 1.0000, 1.0000, 1.0000, 1.0000, 1.0000, 1.0000,\n",
      "        1.0000, 1.0000, 1.0000, 1.0000, 1.0000, 1.0000, 1.0000, 1.0000, 1.0000,\n",
      "        1.0000, 1.0000, 1.0000, 1.0000, 1.0000, 1.0000, 1.0000, 1.0000, 1.0000,\n",
      "        1.0000, 1.0000, 1.0000, 1.0000, 1.0000, 1.0000, 1.0000, 1.0000, 1.0000,\n",
      "        1.0000, 1.0000, 1.0000, 1.0000, 1.0000, 1.0000, 1.0000, 1.0000, 1.0000,\n",
      "        1.0000])\n"
     ]
    }
   ],
   "source": [
    "print(probabilities.sum(dim=1))"
   ]
  },
  {
   "cell_type": "code",
   "execution_count": 27,
   "metadata": {},
   "outputs": [
    {
     "data": {
      "text/plain": [
       "tensor([1.8370e-06, 9.9316e-01, 5.6201e-17, 1.1719e-09, 7.7251e-10, 1.6065e-08,\n",
       "        1.6519e-05, 6.8132e-03, 4.3220e-08, 6.4247e-06])"
      ]
     },
     "execution_count": 27,
     "metadata": {},
     "output_type": "execute_result"
    }
   ],
   "source": [
    "probabilities[0]"
   ]
  },
  {
   "cell_type": "markdown",
   "metadata": {},
   "source": [
    "### Pytorch with NN Module"
   ]
  },
  {
   "cell_type": "code",
   "execution_count": 28,
   "metadata": {},
   "outputs": [],
   "source": [
    "from torch import nn"
   ]
  },
  {
   "cell_type": "code",
   "execution_count": 29,
   "metadata": {},
   "outputs": [],
   "source": [
    "class Network(nn.Module):\n",
    "    def __init__(self):\n",
    "        super().__init__()\n",
    "        \n",
    "        self.hidden = nn.Linear(784, 256)\n",
    "        self.output = nn.Linear(256, 10)\n",
    "        \n",
    "        self.sigmoid = nn.Sigmoid()\n",
    "        self.softmax = nn.Softmax(dim=1)\n",
    "        \n",
    "    def forward(self, x):\n",
    "        x = self.hidden(x)\n",
    "        x = self.sigmoid(x)\n",
    "        x = self.output(x)\n",
    "        x = self.softmax(x)\n",
    "        \n",
    "        return x"
   ]
  },
  {
   "cell_type": "code",
   "execution_count": 30,
   "metadata": {},
   "outputs": [],
   "source": [
    "# Alternative way to define the Network class: Use Functional module\n",
    "import torch.nn.functional as F\n",
    "\n",
    "class Network2(nn.Module):\n",
    "    def __init__(self):\n",
    "        super().__init__()\n",
    "        \n",
    "        self.hidden = nn.Linear(784, 256)\n",
    "        self.output = nn.Linear(256, 10)\n",
    "        \n",
    "    def forward(self):\n",
    "        x = F.sigmoid(self.hidden(x))\n",
    "        x = F.softmax(self.output(x), dim=1)\n",
    "        \n",
    "        return x"
   ]
  },
  {
   "cell_type": "code",
   "execution_count": 31,
   "metadata": {},
   "outputs": [],
   "source": [
    "class Network3(nn.Module):\n",
    "    def __init__(self):\n",
    "        super().__init__()\n",
    "        \n",
    "        self.hidden1 = nn.Linear(784, 128)\n",
    "        self.hidden2 = nn.Linear(128, 64)\n",
    "        self.output = nn.Linear(64, 10)\n",
    "        \n",
    "        self.relu = nn.ReLU()\n",
    "        self.softmax = nn.Softmax(dim=1)\n",
    "        \n",
    "    def forward(self, x):\n",
    "        x = self.hidden1(x)\n",
    "        x = self.relu(x)\n",
    "        \n",
    "        x = self.hidden2(x)\n",
    "        x = self.relu(x)\n",
    "        \n",
    "        x = self.output(x)\n",
    "        x = self.softmax(x)\n",
    "        \n",
    "        return x"
   ]
  },
  {
   "cell_type": "code",
   "execution_count": 32,
   "metadata": {},
   "outputs": [
    {
     "data": {
      "text/plain": [
       "Network3(\n",
       "  (hidden1): Linear(in_features=784, out_features=128, bias=True)\n",
       "  (hidden2): Linear(in_features=128, out_features=64, bias=True)\n",
       "  (output): Linear(in_features=64, out_features=10, bias=True)\n",
       "  (relu): ReLU()\n",
       "  (softmax): Softmax(dim=1)\n",
       ")"
      ]
     },
     "execution_count": 32,
     "metadata": {},
     "output_type": "execute_result"
    }
   ],
   "source": [
    "model = Network3()\n",
    "model"
   ]
  },
  {
   "cell_type": "markdown",
   "metadata": {},
   "source": [
    "### Loss Calculation"
   ]
  },
  {
   "cell_type": "code",
   "execution_count": 33,
   "metadata": {},
   "outputs": [],
   "source": [
    "# Load the MNIS dataset\n",
    "from torchvision import datasets, transforms\n",
    "\n",
    "transform = transforms.Compose([transforms.ToTensor(),\n",
    "                               transforms.Normalize([0.5], [0.5]),\n",
    "                               ])\n",
    "\n",
    "trainset = datasets.MNIST('MNIST_data/', download=True, train=True, transform=transform)\n",
    "trainloader = torch.utils.data.DataLoader(trainset, batch_size=64, shuffle=True)"
   ]
  },
  {
   "cell_type": "code",
   "execution_count": 34,
   "metadata": {},
   "outputs": [],
   "source": [
    "model = nn.Sequential(nn.Linear(784, 128),\n",
    "                     nn.ReLU(),\n",
    "                     nn.Linear(128, 64),\n",
    "                     nn.ReLU(),\n",
    "                     nn.Linear(64, 10))\n",
    "\n",
    "# Loss criteria: Cross Entropy\n",
    "criterion = nn.CrossEntropyLoss()\n",
    "\n",
    "images, labels = next(iter(trainloader))\n",
    "images = images.view(images.shape[0], -1)"
   ]
  },
  {
   "cell_type": "code",
   "execution_count": 35,
   "metadata": {},
   "outputs": [
    {
     "name": "stdout",
     "output_type": "stream",
     "text": [
      "tensor(2.2957, grad_fn=<NllLossBackward>)\n"
     ]
    }
   ],
   "source": [
    "# Forward propagate\n",
    "preds = model(images)\n",
    "\n",
    "# Calculate loss\n",
    "loss = criterion(preds, labels)\n",
    "\n",
    "print(loss)"
   ]
  },
  {
   "cell_type": "code",
   "execution_count": 36,
   "metadata": {},
   "outputs": [
    {
     "name": "stdout",
     "output_type": "stream",
     "text": [
      "tensor(2.3260, grad_fn=<NllLossBackward>)\n"
     ]
    }
   ],
   "source": [
    "# Exercise 2: Using Log-Softmax\n",
    "model2 = nn.Sequential(nn.Linear(784, 128),\n",
    "                     nn.ReLU(),\n",
    "                     nn.Linear(128, 64),\n",
    "                     nn.ReLU(),\n",
    "                     nn.Linear(64, 10),\n",
    "                     nn.LogSoftmax(dim=1))\n",
    "\n",
    "criterion = nn.NLLLoss()\n",
    "\n",
    "images, labels = next(iter(trainloader))\n",
    "images = images.view(images.shape[0], -1)\n",
    "\n",
    "preds2 = model2(images)\n",
    "loss2 = criterion(preds2, labels)\n",
    "\n",
    "print(loss2)"
   ]
  },
  {
   "cell_type": "markdown",
   "metadata": {},
   "source": [
    "### Backpropagation with Autograd"
   ]
  },
  {
   "cell_type": "code",
   "execution_count": 37,
   "metadata": {},
   "outputs": [
    {
     "name": "stdout",
     "output_type": "stream",
     "text": [
      "tensor([[-1.4002, -1.8795],\n",
      "        [ 1.9034,  0.6671]], requires_grad=True)\n"
     ]
    }
   ],
   "source": [
    "x = torch.randn(2, 2, requires_grad=True)\n",
    "print(x)"
   ]
  },
  {
   "cell_type": "code",
   "execution_count": 38,
   "metadata": {},
   "outputs": [
    {
     "name": "stdout",
     "output_type": "stream",
     "text": [
      "tensor([[1.9604, 3.5326],\n",
      "        [3.6228, 0.4450]], grad_fn=<PowBackward0>)\n"
     ]
    }
   ],
   "source": [
    "y = x ** 2\n",
    "print(y)"
   ]
  },
  {
   "cell_type": "code",
   "execution_count": 39,
   "metadata": {},
   "outputs": [
    {
     "name": "stdout",
     "output_type": "stream",
     "text": [
      "<PowBackward0 object at 0x000001B3109DC648>\n"
     ]
    }
   ],
   "source": [
    "print(y.grad_fn)"
   ]
  },
  {
   "cell_type": "code",
   "execution_count": 40,
   "metadata": {},
   "outputs": [
    {
     "name": "stdout",
     "output_type": "stream",
     "text": [
      "tensor(2.3902, grad_fn=<MeanBackward0>)\n"
     ]
    }
   ],
   "source": [
    "z = y.mean()\n",
    "print(z)"
   ]
  },
  {
   "cell_type": "code",
   "execution_count": 41,
   "metadata": {},
   "outputs": [
    {
     "name": "stdout",
     "output_type": "stream",
     "text": [
      "None\n"
     ]
    }
   ],
   "source": [
    "print(x.grad)"
   ]
  },
  {
   "cell_type": "code",
   "execution_count": 42,
   "metadata": {},
   "outputs": [
    {
     "name": "stdout",
     "output_type": "stream",
     "text": [
      "tensor([[-0.7001, -0.9398],\n",
      "        [ 0.9517,  0.3335]])\n",
      "tensor([[-0.7001, -0.9398],\n",
      "        [ 0.9517,  0.3335]], grad_fn=<DivBackward0>)\n"
     ]
    }
   ],
   "source": [
    "# Backprop\n",
    "z.backward()\n",
    "print(x.grad)\n",
    "\n",
    "# The same as\n",
    "print(x / 2)"
   ]
  },
  {
   "cell_type": "code",
   "execution_count": 43,
   "metadata": {},
   "outputs": [
    {
     "name": "stdout",
     "output_type": "stream",
     "text": [
      "tensor(2.2958, grad_fn=<NllLossBackward>)\n"
     ]
    }
   ],
   "source": [
    "# On the model\n",
    "model = nn.Sequential(nn.Linear(784, 128),\n",
    "                     nn.ReLU(),\n",
    "                     nn.Linear(128, 64),\n",
    "                     nn.ReLU(),\n",
    "                     nn.Linear(64, 10),\n",
    "                     nn.LogSoftmax(dim=1))\n",
    "\n",
    "criterion = nn.NLLLoss()\n",
    "\n",
    "images, labels = next(iter(trainloader))\n",
    "images = images.view(images.shape[0], -1)\n",
    "\n",
    "logpreds = model(images)\n",
    "loss = criterion(logpreds, labels)\n",
    "\n",
    "print(loss)"
   ]
  },
  {
   "cell_type": "code",
   "execution_count": 44,
   "metadata": {},
   "outputs": [
    {
     "name": "stdout",
     "output_type": "stream",
     "text": [
      "Before backpropagation: \n",
      " None\n"
     ]
    }
   ],
   "source": [
    "print('Before backpropagation: \\n', model[0].weight.grad)"
   ]
  },
  {
   "cell_type": "code",
   "execution_count": 45,
   "metadata": {},
   "outputs": [],
   "source": [
    "loss.backward()"
   ]
  },
  {
   "cell_type": "code",
   "execution_count": 46,
   "metadata": {},
   "outputs": [
    {
     "name": "stdout",
     "output_type": "stream",
     "text": [
      "After back propagation: \n",
      " tensor([[ 0.0004,  0.0004,  0.0004,  ...,  0.0004,  0.0004,  0.0004],\n",
      "        [ 0.0000,  0.0000,  0.0000,  ...,  0.0000,  0.0000,  0.0000],\n",
      "        [-0.0022, -0.0022, -0.0022,  ..., -0.0022, -0.0022, -0.0022],\n",
      "        ...,\n",
      "        [-0.0010, -0.0010, -0.0010,  ..., -0.0010, -0.0010, -0.0010],\n",
      "        [-0.0017, -0.0017, -0.0017,  ..., -0.0017, -0.0017, -0.0017],\n",
      "        [-0.0016, -0.0016, -0.0016,  ..., -0.0016, -0.0016, -0.0016]])\n"
     ]
    }
   ],
   "source": [
    "print('After back propagation: \\n', model[0].weight.grad)"
   ]
  },
  {
   "cell_type": "markdown",
   "metadata": {},
   "source": [
    "### Optimization"
   ]
  },
  {
   "cell_type": "code",
   "execution_count": 47,
   "metadata": {},
   "outputs": [],
   "source": [
    "from torch import optim\n",
    "\n",
    "optimizer = optim.SGD(model.parameters(), lr=0.01)"
   ]
  },
  {
   "cell_type": "markdown",
   "metadata": {},
   "source": [
    "### Training the Model"
   ]
  },
  {
   "cell_type": "code",
   "execution_count": 48,
   "metadata": {},
   "outputs": [
    {
     "name": "stdout",
     "output_type": "stream",
     "text": [
      "Initial weights:  Parameter containing:\n",
      "tensor([[ 0.0122,  0.0106,  0.0017,  ..., -0.0092, -0.0297,  0.0221],\n",
      "        [-0.0111, -0.0243, -0.0153,  ...,  0.0297,  0.0348, -0.0254],\n",
      "        [ 0.0143,  0.0279,  0.0094,  ..., -0.0159, -0.0128, -0.0353],\n",
      "        ...,\n",
      "        [-0.0195,  0.0352,  0.0307,  ..., -0.0286,  0.0237, -0.0312],\n",
      "        [-0.0187,  0.0096,  0.0092,  ...,  0.0052,  0.0221,  0.0174],\n",
      "        [-0.0354,  0.0223, -0.0132,  ..., -0.0032,  0.0292, -0.0199]],\n",
      "       requires_grad=True)\n"
     ]
    }
   ],
   "source": [
    "print('Initial weights: ', model[0].weight)"
   ]
  },
  {
   "cell_type": "code",
   "execution_count": 49,
   "metadata": {},
   "outputs": [
    {
     "name": "stdout",
     "output_type": "stream",
     "text": [
      "Gradient:  tensor([[-7.4859e-05, -7.4859e-05, -7.4859e-05,  ..., -7.4859e-05,\n",
      "         -7.4859e-05, -7.4859e-05],\n",
      "        [ 0.0000e+00,  0.0000e+00,  0.0000e+00,  ...,  0.0000e+00,\n",
      "          0.0000e+00,  0.0000e+00],\n",
      "        [ 9.6640e-04,  9.6640e-04,  9.6640e-04,  ...,  9.6640e-04,\n",
      "          9.6640e-04,  9.6640e-04],\n",
      "        ...,\n",
      "        [-1.2626e-03, -1.2626e-03, -1.2626e-03,  ..., -1.2626e-03,\n",
      "         -1.2626e-03, -1.2626e-03],\n",
      "        [-2.7242e-03, -2.7242e-03, -2.7242e-03,  ..., -2.7242e-03,\n",
      "         -2.7242e-03, -2.7242e-03],\n",
      "        [-3.3611e-04, -3.3611e-04, -3.3611e-04,  ..., -3.3611e-04,\n",
      "         -3.3611e-04, -3.3611e-04]])\n"
     ]
    }
   ],
   "source": [
    "images, labels = next(iter(trainloader))\n",
    "images.resize_(64, 784)\n",
    "\n",
    "# Clear the gradients first, because this accumulates\n",
    "optimizer.zero_grad()\n",
    "\n",
    "# Forward propagate then calculate the loss\n",
    "output = model.forward(images)\n",
    "loss = criterion(output, labels)\n",
    "\n",
    "# Backward propagate\n",
    "loss.backward()\n",
    "print('Gradient: ', model[0].weight.grad)"
   ]
  },
  {
   "cell_type": "code",
   "execution_count": 50,
   "metadata": {},
   "outputs": [
    {
     "name": "stdout",
     "output_type": "stream",
     "text": [
      "Updated weights:  Parameter containing:\n",
      "tensor([[ 0.0122,  0.0106,  0.0017,  ..., -0.0092, -0.0297,  0.0221],\n",
      "        [-0.0111, -0.0243, -0.0153,  ...,  0.0297,  0.0348, -0.0254],\n",
      "        [ 0.0143,  0.0279,  0.0094,  ..., -0.0160, -0.0128, -0.0353],\n",
      "        ...,\n",
      "        [-0.0195,  0.0352,  0.0307,  ..., -0.0286,  0.0237, -0.0312],\n",
      "        [-0.0187,  0.0096,  0.0092,  ...,  0.0052,  0.0222,  0.0174],\n",
      "        [-0.0353,  0.0223, -0.0132,  ..., -0.0032,  0.0292, -0.0199]],\n",
      "       requires_grad=True)\n"
     ]
    }
   ],
   "source": [
    "# Optimize the parameters (weights)\n",
    "optimizer.step()\n",
    "\n",
    "print('Updated weights: ', model[0].weight)"
   ]
  },
  {
   "cell_type": "markdown",
   "metadata": {},
   "source": [
    "### Training the model with the complete dataset (with epochs)"
   ]
  },
  {
   "cell_type": "code",
   "execution_count": 51,
   "metadata": {},
   "outputs": [
    {
     "name": "stdout",
     "output_type": "stream",
     "text": [
      "training loss: 2.002747079965148\n",
      "training loss: 0.9224156597529901\n",
      "training loss: 0.5305709021050793\n",
      "training loss: 0.43088498117445884\n",
      "training loss: 0.38643559381397546\n"
     ]
    }
   ],
   "source": [
    "model = nn.Sequential(nn.Linear(784, 128),\n",
    "                     nn.ReLU(),\n",
    "                     nn.Linear(128, 64),\n",
    "                     nn.ReLU(),\n",
    "                     nn.Linear(64, 10),\n",
    "                     nn.LogSoftmax(dim=1))\n",
    "\n",
    "criterion = nn.NLLLoss()\n",
    "optimizer = optim.SGD(model.parameters(), lr=0.003)\n",
    "\n",
    "epochs = 5\n",
    "\n",
    "for e in range(epochs):\n",
    "    running_loss = 0\n",
    "    \n",
    "    for images, labels in trainloader:\n",
    "        images = images.view(images.shape[0], -1)\n",
    "        \n",
    "        optimizer.zero_grad()\n",
    "        \n",
    "        # Forward propagate\n",
    "        predictions = model.forward(images)\n",
    "        \n",
    "        # Calculate loss\n",
    "        loss = criterion(predictions, labels)\n",
    "        running_loss += loss.item()\n",
    "        \n",
    "        # Back propagate\n",
    "        loss.backward()\n",
    "        \n",
    "        # Optimize the parameters\n",
    "        optimizer.step()\n",
    "    \n",
    "    else:\n",
    "        print(f'training loss: {running_loss / len(trainloader)}')\n",
    "        "
   ]
  },
  {
   "cell_type": "code",
   "execution_count": 52,
   "metadata": {},
   "outputs": [
    {
     "name": "stderr",
     "output_type": "stream",
     "text": [
      "'wget' is not recognized as an internal or external command,\n",
      "operable program or batch file.\n"
     ]
    }
   ],
   "source": [
    "!wget https://raw.githubusercontent.com/udacity/deep-learning-v2-pytorch/3bd7dea850e936d8cb44adda8200e4e2b5d627e3/intro-to-pytorch/helper.py"
   ]
  },
  {
   "cell_type": "code",
   "execution_count": 56,
   "metadata": {},
   "outputs": [
    {
     "data": {
      "image/png": "[encoded data removed]",
      "text/plain": [
       "<Figure size 432x648 with 2 Axes>"
      ]
     },
     "metadata": {
      "image/png": {
       "height": 226,
       "width": 423
      },
      "needs_background": "light"
     },
     "output_type": "display_data"
    }
   ],
   "source": [
    "# Visualizing the results\n",
    "%matplotlib inline\n",
    "import helper\n",
    "\n",
    "images, labels = next(iter(trainloader))\n",
    "\n",
    "img = images[0].view(1, 784)\n",
    "with torch.no_grad():\n",
    "    preds = model.forward(img)\n",
    "    \n",
    "ps = F.softmax(preds, dim=1)\n",
    "    \n",
    "helper.view_classify(img.view(1, 28, 28), ps)"
   ]
  }
 ],
 "metadata": {
  "kernelspec": {
   "display_name": "Python 3",
   "language": "python",
   "name": "python3"
  },
  "language_info": {
   "codemirror_mode": {
    "name": "ipython",
    "version": 3
   },
   "file_extension": ".py",
   "mimetype": "text/x-python",
   "name": "python",
   "nbconvert_exporter": "python",
   "pygments_lexer": "ipython3",
   "version": "3.7.4"
  }
 },
 "nbformat": 4,
 "nbformat_minor": 2
}
